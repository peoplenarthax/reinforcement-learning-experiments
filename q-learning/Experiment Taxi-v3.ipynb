{
 "cells": [
  {
   "cell_type": "markdown",
   "metadata": {},
   "source": [
    "# Solution to Taxi-V2 with Q-learning\n",
    "\n",
    "## The task\n",
    "\n",
    "As defined in `gym`:\n",
    "\n",
    "> There are four designated locations in the grid world indicated by R(ed), G(reen), Y(ellow), and B(lue). When the episode starts, the taxi starts off at a random square and the passenger is at a random location. The taxi drives to the passenger's location, picks up the passenger, drives to the passenger's destination (another one of the four specified locations), and then drops off the passenger. Once the passenger is dropped off, the episode ends.\n",
    "\n",
    "### Markov Decission Process for Taxi-v2\n",
    "\n",
    "States:\n",
    "- Grid world of 5x5 with walls\n",
    "- Passenger position: Red, Green, Yellow and Blue (or in the taxi)\n",
    "- Destinations: Red, Green, Yellow and Blue\n",
    "Total amount of states: 5*5*5*4 = 500 discrete states\n",
    "\n",
    "Actions: North, South, West, East, Pick Up, Drop Off\n",
    "\n",
    "Rewards: \n",
    "- Each time step: -1\n",
    "- Succesfully drop the passenger: 20\n",
    "- Illegal Pick up or drop off: -10"
   ]
  },
  {
   "cell_type": "code",
   "execution_count": 12,
   "metadata": {},
   "outputs": [],
   "source": [
    "from agent import Agent\n",
    "from monitor import interact\n",
    "from collections import deque, defaultdict\n",
    "import matplotlib.pyplot as plt\n",
    "import gym\n",
    "import numpy as np\n",
    "import sys\n",
    "import math"
   ]
  },
  {
   "cell_type": "markdown",
   "metadata": {},
   "source": [
    "## The Agent\n",
    "\n",
    "The agent is passed to the environment monitor and we will iterate through every step of the episodes. The Agent receives some extra information for each step it does while only receive the state when choosing the next action."
   ]
  },
  {
   "cell_type": "code",
   "execution_count": 56,
   "metadata": {},
   "outputs": [],
   "source": [
    "class QLearningAgent:\n",
    "\n",
    "    def __init__(self, nA=6, epsilon=1.0, alpha=.05, gamma=1.0):\n",
    "        \"\"\" Initialize agent.\n",
    "        \n",
    "        Params\n",
    "        ======\n",
    "        - nA: number of actions available to the agent\n",
    "        - epsilon: parameter for epsilon-Greedy algorithm\n",
    "        - alpha: \"Learning rate\"\n",
    "        - gamma: Discount factor\n",
    "        \"\"\"\n",
    "        self.nA = nA\n",
    "        self.Q = defaultdict(lambda: np.zeros(self.nA))\n",
    "        self.epsilon = epsilon\n",
    "        self.alpha = alpha\n",
    "        self.gamma = gamma\n",
    "\n",
    "\n",
    "    def __update_Q(self, current_Q, next_Q, reward):\n",
    "        \"\"\" Updates the action-value function estimate using the most recent time step \"\"\"\n",
    "        return current_Q + (self.alpha * (reward + (self.gamma * next_Q) - current_Q))\n",
    "\n",
    "    def select_action(self, state):\n",
    "        \"\"\" Given the state, select an action \"\"\"\n",
    "        policy_probabilities = np.ones(self.nA) * self.epsilon / self.nA\n",
    "        policy_probabilities[np.argmax(self.Q[state])] = 1 - self.epsilon + (self.epsilon / self.nA)\n",
    "\n",
    "        return np.random.choice(np.arange(self.nA), p=policy_probabilities)\n",
    "\n",
    "    def step(self, state, action, reward, next_state, episode, done):\n",
    "        \"\"\" Update the agent's knowledge, using the most recently sampled tuple \"\"\"\n",
    "        self.epsilon = 1.0 / episode\n",
    "        \n",
    "        self.Q[state][action] = self.__update_Q(self.Q[state][action], np.max(self.Q[next_state]), reward)      "
   ]
  },
  {
   "attachments": {},
   "cell_type": "markdown",
   "metadata": {},
   "source": [
    "Going a bit more in detail we are using the Q-learning algorithm:\n",
    "<img src=\"./q-learning-algorithm.png\" alt=\"drawing\" width=\"600\"/>\n",
    "\n",
    "\n",
    "In this exercise I will explore a bit how different gamma/epsilon/alpha affect the learning curve."
   ]
  },
  {
   "cell_type": "code",
   "execution_count": 24,
   "metadata": {},
   "outputs": [],
   "source": [
    "def interact(env, agent, num_episodes=20000, window=100):\n",
    "    \"\"\" Monitor agents performance\n",
    "    \n",
    "    Params\n",
    "    ======\n",
    "    - env: instance of OpenAI Gym's Taxi-v1 environment\n",
    "    - agent: instance of class Agent (see Agent.py for details)\n",
    "    - num_episodes: number of episodes of agent-environment interaction\n",
    "    - window: number of episodes to consider when calculating average rewards\n",
    "\n",
    "    Returns\n",
    "    =======\n",
    "    - avg_rewards: deque containing average rewards\n",
    "    - best_avg_reward: largest value in the avg_rewards deque\n",
    "    \"\"\"\n",
    "    avg_rewards = deque(maxlen=num_episodes)\n",
    "    best_avg_reward = -math.inf\n",
    "    samp_rewards = deque(maxlen=window)\n",
    "    convergence_episode = 0\n",
    "    \n",
    "    for i_episode in range(1, num_episodes+1):\n",
    "        state = env.reset()\n",
    "        samp_reward = 0\n",
    "        \n",
    "        # Steps in episode\n",
    "        while True:\n",
    "            action = agent.select_action(state)\n",
    "            next_state, reward, done, _ = env.step(action)\n",
    "            agent.step(state, action, reward, next_state, i_episode, done)\n",
    "            \n",
    "            # update the sampled reward\n",
    "            samp_reward += reward\n",
    "\n",
    "            state = next_state\n",
    "            if done:\n",
    "                # save final sampled reward\n",
    "                samp_rewards.append(samp_reward)\n",
    "                break\n",
    "        if (i_episode >= window):\n",
    "            # get average reward from last 100 episodes\n",
    "            avg_reward = np.mean(samp_rewards)\n",
    "            avg_rewards.append(avg_reward)\n",
    "\n",
    "            if avg_reward > best_avg_reward:\n",
    "                convergence_episode = i_episode\n",
    "                best_avg_reward = avg_reward\n",
    "\n",
    "        print(\"\\rEpisode {}/{} || Best average reward {}\".format(i_episode, num_episodes, best_avg_reward), end=\"\")\n",
    "        sys.stdout.flush()\n",
    "        \n",
    "        # check if task is solved (according to OpenAI Gym)\n",
    "        if best_avg_reward >= 9.7:\n",
    "            print('\\nEnvironment solved in {} episodes.'.format(i_episode), end=\"\")\n",
    "            break\n",
    "        if i_episode == num_episodes: print('\\n')\n",
    "    return avg_rewards, best_avg_reward, convergence_episode"
   ]
  },
  {
   "cell_type": "code",
   "execution_count": 25,
   "metadata": {},
   "outputs": [
    {
     "name": "stdout",
     "output_type": "stream",
     "text": [
      "Episode 20000/20000 || Best average reward 8.6544\n",
      "\n",
      "Best avg. for alpha = 0.01 : 8.65. Reached on episode: 19212\n",
      "Episode 20000/20000 || Best average reward 8.627\n",
      "\n",
      "Best avg. for alpha = 0.05 : 8.62. Reached on episode: 6644\n",
      "Episode 20000/20000 || Best average reward 8.787\n",
      "\n",
      "Best avg. for alpha = 0.1 : 8.78. Reached on episode: 19244\n",
      "Episode 20000/20000 || Best average reward 8.844\n",
      "\n",
      "Best avg. for alpha = 0.15 : 8.84. Reached on episode: 13413\n",
      "Episode 20000/20000 || Best average reward 8.829\n",
      "\n",
      "Best avg. for alpha = 0.2 : 8.82. Reached on episode: 10042\n"
     ]
    },
    {
     "data": {
      "image/png": "[encoded data removed]",
      "text/plain": [
       "<Figure size 432x288 with 1 Axes>"
      ]
     },
     "metadata": {
      "needs_background": "light"
     },
     "output_type": "display_data"
    }
   ],
   "source": [
    "env = gym.make('Taxi-v3')\n",
    "\n",
    "alpha_variations = [.01, .05, .1, .15, .2 ]\n",
    "\n",
    "fig = plt.figure()\n",
    "ax = plt.subplot(111)\n",
    "plt.title(\"Alpha comparisons for fixed epsilon and gamma\")\n",
    "for alpha in alpha_variations:\n",
    "    agent = QLearningAgent(alpha=alpha)\n",
    "    avg_rewards, best_avg_reward, episode_best_reward = interact(env, agent)\n",
    "    \n",
    "    print(f'Best avg. for alpha = {alpha} : {best_avg_reward}. Reached on episode: {episode_best_reward}')\n",
    "    ax.plot(list(range(len(avg_rewards))), avg_rewards, label=f'alpha = {alpha}')\n",
    "ax.legend(loc='upper center', bbox_to_anchor=(0.5, -0.05), shadow=True, ncol=2)\n",
    "plt.show()"
   ]
  },
  {
   "cell_type": "markdown",
   "metadata": {},
   "source": [
    "We can observe how for low values of alpha the convergence happens slower and as it grows it closer to the step function on 0.\n",
    "\n",
    "Smaller values for α encourage the agent to consider a longer history of returns when calculating the action-value function estimate. Increasing the value of α ensures that the agent focuses more on the most recently sampled returns. "
   ]
  },
  {
   "cell_type": "code",
   "execution_count": 28,
   "metadata": {},
   "outputs": [
    {
     "name": "stdout",
     "output_type": "stream",
     "text": [
      "Episode 20000/20000 || Best average reward 8.668\n",
      "\n",
      "Best avg. for epsilon = 1.0 : 8.66. Reached on episode: 12211\n",
      "Episode 20000/20000 || Best average reward 8.999\n",
      "\n",
      "Best avg. for epsilon = 0.9 : 8.9. Reached on episode: 5021\n",
      "Episode 20000/20000 || Best average reward 8.827\n",
      "\n",
      "Best avg. for epsilon = 0.95 : 8.82. Reached on episode: 10725\n",
      "Episode 20000/20000 || Best average reward 8.735\n",
      "\n",
      "Best avg. for epsilon = 0.8 : 8.73. Reached on episode: 7599\n",
      "Episode 20000/20000 || Best average reward 8.783\n",
      "\n",
      "Best avg. for epsilon = 0.2 : 8.78. Reached on episode: 7478\n"
     ]
    },
    {
     "data": {
      "image/png": "[encoded data removed]",
      "text/plain": [
       "<Figure size 432x288 with 1 Axes>"
      ]
     },
     "metadata": {
      "needs_background": "light"
     },
     "output_type": "display_data"
    }
   ],
   "source": [
    "epsilon_variations = [1.0, .9, .95, .8, 0.2 ]\n",
    "\n",
    "fig = plt.figure()\n",
    "ax = plt.subplot(111)\n",
    "plt.title(\"Epsilon comparisons for fixed alpha and gamma\")\n",
    "for epsilon in epsilon_variations:\n",
    "    agent = QLearningAgent(epsilon=epsilon)\n",
    "    avg_rewards, best_avg_reward, episode_best_reward = interact(env, agent)\n",
    "    \n",
    "    print(f'Best avg. for epsilon = {epsilon} : {best_avg_reward}. Reached on episode: {episode_best_reward}')\n",
    "    ax.plot(list(range(len(avg_rewards))), avg_rewards, label=f'epsilon = {epsilon}')\n",
    "ax.legend(loc='upper center', bbox_to_anchor=(0.5, -0.05), shadow=True, ncol=2)\n",
    "plt.show()"
   ]
  },
  {
   "cell_type": "code",
   "execution_count": 27,
   "metadata": {},
   "outputs": [
    {
     "name": "stdout",
     "output_type": "stream",
     "text": [
      "Episode 20000/20000 || Best average reward 8.717\n",
      "\n",
      "Best avg. for gamma = 1.0 : 8.71. Reached on episode: 17162\n",
      "Episode 20000/20000 || Best average reward 8.754\n",
      "\n",
      "Best avg. for gamma = 0.9 : 8.75. Reached on episode: 10599\n",
      "Episode 20000/20000 || Best average reward 8.723\n",
      "\n",
      "Best avg. for gamma = 0.8 : 8.72. Reached on episode: 17108\n",
      "Episode 20000/20000 || Best average reward 8.667\n",
      "\n",
      "Best avg. for gamma = 0.7 : 8.66. Reached on episode: 15126\n",
      "Episode 20000/20000 || Best average reward 8.2128\n",
      "\n",
      "Best avg. for gamma = 0.2 : 8.21. Reached on episode: 19850\n"
     ]
    },
    {
     "data": {
      "image/png": "[encoded data removed]",
      "text/plain": [
       "<Figure size 432x288 with 1 Axes>"
      ]
     },
     "metadata": {
      "needs_background": "light"
     },
     "output_type": "display_data"
    }
   ],
   "source": [
    "gamma_variations = [1.0, .9, .8, .7, .2 ]\n",
    "\n",
    "fig = plt.figure()\n",
    "ax = plt.subplot(111)\n",
    "plt.title(\"Epsilon comparisons for fixed alpha and gamma\")\n",
    "for gamma in gamma_variations:\n",
    "    agent = QLearningAgent(gamma=gamma)\n",
    "    avg_rewards, best_avg_reward, episode_best_reward = interact(env, agent)\n",
    "    \n",
    "    print(f'Best avg. for gamma = {gamma} : {best_avg_reward}. Reached on episode: {episode_best_reward}')\n",
    "    ax.plot(list(range(len(avg_rewards))), avg_rewards, label=f'gamma = {gamma}')\n",
    "ax.legend(loc='upper center', bbox_to_anchor=(0.5, -0.05), shadow=True, ncol=2)\n",
    "plt.show()"
   ]
  },
  {
   "cell_type": "markdown",
   "metadata": {},
   "source": [
    "We can see how lower gamma (discounted reward) promotes sort term vision when changing the value, basically the changes of future rewards will be lower hence our agent will learn slower. For some task this maybe useful, but in the case of Taxi-v3 we need to consider further future rewards.\n",
    "\n",
    "So with the hyper parameters:\n",
    "- epsilon: 0.9\n",
    "- gamma: 0.9\n",
    "- alpha: 0.04\n",
    "\n",
    "We will run and analyse the resulted Q matrix"
   ]
  },
  {
   "cell_type": "code",
   "execution_count": 37,
   "metadata": {},
   "outputs": [
    {
     "name": "stdout",
     "output_type": "stream",
     "text": [
      "Episode 20000/20000 || Best average reward 8.987\n",
      "\n"
     ]
    }
   ],
   "source": [
    "agent = QLearningAgent(gamma=.9, alpha=.04, epsilon=0.9)\n",
    "avg_rewards, best_avg_reward, episode_best_reward = interact(env, agent)"
   ]
  },
  {
   "cell_type": "code",
   "execution_count": 40,
   "metadata": {},
   "outputs": [
    {
     "data": {
      "image/png": "[encoded data removed]",
      "text/plain": [
       "<Figure size 432x288 with 1 Axes>"
      ]
     },
     "metadata": {
      "needs_background": "light"
     },
     "output_type": "display_data"
    }
   ],
   "source": [
    "fig = plt.figure()\n",
    "ax = plt.subplot(111)\n",
    "plt.title(\"Reward \")\n",
    "ax.plot(list(range(len(avg_rewards))), avg_rewards)\n",
    "plt.xlabel('Episodes')\n",
    "plt.ylabel('Average Reward in the last 100 samples')\n",
    "plt.show()"
   ]
  },
  {
   "cell_type": "code",
   "execution_count": 62,
   "metadata": {},
   "outputs": [
    {
     "name": "stdout",
     "output_type": "stream",
     "text": [
      "+---------+\n",
      "|\u001b[35mR\u001b[0m: | : :G|\n",
      "| : | : : |\n",
      "| : : : : |\n",
      "|\u001b[43m \u001b[0m| : | : |\n",
      "|\u001b[34;1mY\u001b[0m| : |B: |\n",
      "+---------+\n",
      "\n",
      "+---------+\n",
      "|\u001b[35mR\u001b[0m: | : :G|\n",
      "| : | : : |\n",
      "| : : : : |\n",
      "| | : | : |\n",
      "|\u001b[34;1m\u001b[43mY\u001b[0m\u001b[0m| : |B: |\n",
      "+---------+\n",
      "  (South)\n",
      "+---------+\n",
      "|\u001b[35mR\u001b[0m: | : :G|\n",
      "| : | : : |\n",
      "| : : : : |\n",
      "| | : | : |\n",
      "|\u001b[42mY\u001b[0m| : |B: |\n",
      "+---------+\n",
      "  (Pickup)\n",
      "+---------+\n",
      "|\u001b[35mR\u001b[0m: | : :G|\n",
      "| : | : : |\n",
      "| : : : : |\n",
      "|\u001b[42m_\u001b[0m| : | : |\n",
      "|Y| : |B: |\n",
      "+---------+\n",
      "  (North)\n",
      "+---------+\n",
      "|\u001b[35mR\u001b[0m: | : :G|\n",
      "| : | : : |\n",
      "|\u001b[42m_\u001b[0m: : : : |\n",
      "| | : | : |\n",
      "|Y| : |B: |\n",
      "+---------+\n",
      "  (North)\n",
      "+---------+\n",
      "|\u001b[35mR\u001b[0m: | : :G|\n",
      "|\u001b[42m_\u001b[0m: | : : |\n",
      "| : : : : |\n",
      "| | : | : |\n",
      "|Y| : |B: |\n",
      "+---------+\n",
      "  (North)\n",
      "+---------+\n",
      "|\u001b[35m\u001b[42mR\u001b[0m\u001b[0m: | : :G|\n",
      "| : | : : |\n",
      "| : : : : |\n",
      "| | : | : |\n",
      "|Y| : |B: |\n",
      "+---------+\n",
      "  (North)\n",
      "+---------+\n",
      "|\u001b[35m\u001b[34;1m\u001b[43mR\u001b[0m\u001b[0m\u001b[0m: | : :G|\n",
      "| : | : : |\n",
      "| : : : : |\n",
      "| | : | : |\n",
      "|Y| : |B: |\n",
      "+---------+\n",
      "  (Dropoff)\n",
      "7\n"
     ]
    }
   ],
   "source": [
    "state = env.reset()\n",
    "steps = 0\n",
    "env.render()        \n",
    "# Steps in episode\n",
    "while True:\n",
    "    steps = steps + 1\n",
    "    action = agent.select_action(state)\n",
    "    next_state, reward, done, _ = env.step(action)\n",
    "    # update the sampled reward\n",
    "    state = next_state\n",
    "    env.render()\n",
    "    if done:\n",
    "        break\n",
    "print(steps)        \n",
    "        "
   ]
  },
  {
   "cell_type": "markdown",
   "metadata": {},
   "source": [
    "Since we have 500 discrete states it becomes a bit difficult to visualize all the policies, but... given the best reward of ~=9, and knowing that the reward when the mission is acomplished is 20, we can estimate that our agent can solve this puzzle in an average of 12 steps. \n",
    "\n",
    "<img src=\"./taxi-simulation.png\" alt=\"drawing\" width=\"800\"/>"
   ]
  },
  {
   "cell_type": "code",
   "execution_count": null,
   "metadata": {},
   "outputs": [],
   "source": []
  }
 ],
 "metadata": {
  "kernelspec": {
   "display_name": "Python 3",
   "language": "python",
   "name": "python3"
  },
  "language_info": {
   "codemirror_mode": {
    "name": "ipython",
    "version": 3
   },
   "file_extension": ".py",
   "mimetype": "text/x-python",
   "name": "python",
   "nbconvert_exporter": "python",
   "pygments_lexer": "ipython3",
   "version": "3.6.8"
  }
 },
 "nbformat": 4,
 "nbformat_minor": 2
}
