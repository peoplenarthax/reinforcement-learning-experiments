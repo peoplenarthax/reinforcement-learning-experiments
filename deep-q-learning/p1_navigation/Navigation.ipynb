{
 "cells": [
  {
   "cell_type": "markdown",
   "metadata": {},
   "source": [
    "# Navigation\n",
    "\n",
    "\n",
    "This Notebooks uses Unity's ML-Agents to solve a simple navigation task where our agent has to collect as many yellow bananas as possible in the given time.\n",
    "\n",
    "\n",
    "### Set up\n",
    "\n",
    "This code uses UnityEnvironment (In this case is a customized version from Udacity), [NumPy](https://numpy.org/), and [PyTorch](https://pytorch.org/)"
   ]
  },
  {
   "cell_type": "code",
   "execution_count": 1,
   "metadata": {},
   "outputs": [],
   "source": [
    "from unityagents import UnityEnvironment\n",
    "import numpy as np"
   ]
  },
  {
   "cell_type": "code",
   "execution_count": 2,
   "metadata": {
    "scrolled": true
   },
   "outputs": [
    {
     "name": "stderr",
     "output_type": "stream",
     "text": [
      "INFO:unityagents:\n",
      "'Academy' started successfully!\n",
      "Unity Academy name: Academy\n",
      "        Number of Brains: 1\n",
      "        Number of External Brains : 1\n",
      "        Lesson number : 0\n",
      "        Reset Parameters :\n",
      "\t\t\n",
      "Unity brain name: BananaBrain\n",
      "        Number of Visual Observations (per agent): 0\n",
      "        Vector Observation space type: continuous\n",
      "        Vector Observation space size (per agent): 37\n",
      "        Number of stacked Vector Observation: 1\n",
      "        Vector Action space type: discrete\n",
      "        Vector Action space size (per agent): 4\n",
      "        Vector Action descriptions: , , , \n"
     ]
    }
   ],
   "source": [
    "env = UnityEnvironment(file_name=\"./Banana_Windows_x86_64/Banana.exe\")"
   ]
  },
  {
   "cell_type": "markdown",
   "metadata": {},
   "source": [
    "Unity environments contain **_brains_** which are responsible for deciding the actions of their associated agents. Here we check for the first brain available, and set it as the default brain we will be controlling from Python."
   ]
  },
  {
   "cell_type": "code",
   "execution_count": 3,
   "metadata": {},
   "outputs": [],
   "source": [
    "# get the default brain\n",
    "brain_name = env.brain_names[0]\n",
    "brain = env.brains[brain_name]"
   ]
  },
  {
   "cell_type": "markdown",
   "metadata": {},
   "source": [
    "### The Environment\n",
    "\n",
    "This simulation contains a single agent that navigates a large environment.  \n",
    "\n",
    "At each time step, it has four actions at its disposal:\n",
    "- `0` - walk forward \n",
    "- `1` - walk backward\n",
    "- `2` - turn left\n",
    "- `3` - turn right\n",
    "\n",
    "The state space has `37` dimensions and contains the agent's velocity, along with ray-based perception of objects around agent's forward direction.  A reward of `+1` is provided for collecting a yellow banana, and a reward of `-1` is provided for collecting a blue banana. "
   ]
  },
  {
   "attachments": {},
   "cell_type": "markdown",
   "metadata": {},
   "source": [
    "### Method\n",
    "\n",
    "This task has been solved using a Prioritized Experience Replay - Double Deep Q-Network (PER-DDQN), part of the code for enabling the environment has been extracted from Udacity's example.\n",
    "\n",
    "#### Deep Q-Network\n",
    "\n",
    "The base implementation comes from the famous [\"Playing Atari with Deep Reinforcement Learning\"](https://arxiv.org/abs/1312.5602) from deep mind, where several games of Atari were played by Reinforcement Learning agents trained solely on visual information from the game (The only data that was extracted was the score), hence learning the game as most likely any human player would have. This development had 2 important parts: Describing the Convolutional Neural Network needed to extract image features directly from the game screen. Unlike a traditional reinforcement learning set up where only one Q value will be produced, the Deep Q-Network will produce Q values for all possible actions (hence approximating the value-state function). To find a optimal policy we will need quite a big amount of data, and even this data will have a high correlation between certain state and actions, what will make our model overfit for certain experiences. The DeepMind team introduced 2 well known techniques:\n",
    "\n",
    "- Experience Replay\n",
    "\n",
    "The sequence of experiences can be highly correlated. Q-learning algorithm that learns from each of these experience tuples in sequential order runs the risk of being affected by the correlation in this sequences. By instead keeping track of a replay buffer and using experience replay to sample from the buffer stochasticaly, we can prevent action values from oscillating or diverging.\n",
    "\n",
    "- Fixed targets ( 2 networks)\n",
    "\n",
    "In Q-Learning, we update an approximation using the same approxiamtion, and this can potentially lead to harmful correlations. To avoid this, we introduce 2 networks that will learn over the same data, but we will have different update rates for them, then we can change slightly our error function (TD Learning function) by fixing our TD-Target using the parameters of a network that gets updated less frequently, we call this fixed targets. And it just helps stabilizing the learning target.\n",
    "![Double DQN Error formula](fixed-targets.PNG \"Double DQN\")\n",
    "\n",
    "#### Double Deep Q-Network\n",
    "\n",
    "One of the proposals to improve DQNs is [Double DQN](https://arxiv.org/pdf/1509.06461.pdf). The current [strategy in DQNs to calculate Q-Values is prompt to overestimation](https://www.ri.cmu.edu/pub_files/pub1/thrun_sebastian_1993_1/thrun_sebastian_1993_1.pdf), meaning that in the early stages of the training, our Q values won't be reliable, hence we could be taking a wrong action and later on keep choosing the same action as we are picking the max in a set of noisy values. To make this approximation more resiliant we played with the fact of having 2 sets of different parameters, then we can split the evaluation and selections of policies during training preventing policies from being repeatedly selected by chance. We can consider this a slightly modification to the fixed targets improvement.\n",
    "\n",
    "![Double DQN Error formula](ddqn-formula.PNG \"Double DQN\")\n",
    "\n",
    "#### Prioritized Experience Replay\n",
    "\n",
    "As a modification to the experience Replay Feature, we introduce [Prioritized Experience Replay](https://arxiv.org/abs/1511.05952). The assumption is that not all our experiences are as fructful for our training as others thereby by identifying the most relevant experiences and using them more often to train our network we could achieve better results and performance. We define a more relevant experience by the error, hence experiences with a higher error are more likely to introduce bigger and more relevant changes to our network. Once we can add a priority to our experiences based on the error, we can sample our memory buffer stochastically using a probability based on their priority (non-uniform). Technically, to improve performance during training we need a priority heap to reduce the time to sampling and update of our prioritized experience replay buffer"
   ]
  },
  {
   "cell_type": "code",
   "execution_count": null,
   "metadata": {},
   "outputs": [],
   "source": [
    "env_info = env.reset(train_mode=False)[brain_name] # reset the environment\n",
    "state = env_info.vector_observations[0]            # get the current state\n",
    "score = 0                                          # initialize the score\n",
    "while True:\n",
    "    action = np.random.randint(action_size)        # select an action\n",
    "    env_info = env.step(action)[brain_name]        # send the action to the environment\n",
    "    next_state = env_info.vector_observations[0]   # get the next state\n",
    "    reward = env_info.rewards[0]                   # get the reward\n",
    "    done = env_info.local_done[0]                  # see if episode has finished\n",
    "    score += reward                                # update the score\n",
    "    state = next_state                             # roll over the state to next time step\n",
    "    if done:                                       # exit loop if episode finished\n",
    "        break\n",
    "    \n",
    "print(\"Score: {}\".format(score))"
   ]
  },
  {
   "cell_type": "markdown",
   "metadata": {},
   "source": [
    "When finished, you can close the environment."
   ]
  },
  {
   "cell_type": "code",
   "execution_count": null,
   "metadata": {},
   "outputs": [],
   "source": [
    "env.close()"
   ]
  },
  {
   "cell_type": "markdown",
   "metadata": {},
   "source": [
    "### Training the agent"
   ]
  },
  {
   "cell_type": "code",
   "execution_count": 7,
   "metadata": {},
   "outputs": [],
   "source": [
    "from agent import Agent\n",
    "\n",
    "\n",
    "agent = Agent(state_size=state_size, action_size=action_size, gamma = 0.99, tau = 1e-3, lr = 5e-4, update_every = 4)"
   ]
  },
  {
   "cell_type": "code",
   "execution_count": 8,
   "metadata": {},
   "outputs": [
    {
     "name": "stdout",
     "output_type": "stream",
     "text": [
      "Episode 100\tAverage Score: 1.33\n",
      "Episode 200\tAverage Score: 5.17\n",
      "Episode 300\tAverage Score: 8.76\n",
      "Episode 400\tAverage Score: 10.38\n",
      "Episode 500\tAverage Score: 12.25\n",
      "Episode 600\tAverage Score: 13.96\n",
      "Episode 700\tAverage Score: 15.26\n",
      "Episode 800\tAverage Score: 14.41\n",
      "Episode 900\tAverage Score: 15.88\n"
     ]
    }
   ],
   "source": [
    "from collections import namedtuple, deque, defaultdict\n",
    "import torch\n",
    "device = torch.device(\"cuda:0\" if torch.cuda.is_available() else \"cpu\")\n",
    "\n",
    "def dqn(n_episodes=900, max_t=1000, eps_start=1.0, eps_end=0.01, eps_decay=0.995):\n",
    "    \"\"\"Deep Q-Learning.\n",
    "    \n",
    "    Params\n",
    "    ======\n",
    "        n_episodes (int): maximum number of training episodes\n",
    "        max_t (int): maximum number of timesteps per episode\n",
    "        eps_start (float): starting value of epsilon, for epsilon-greedy action selection\n",
    "        eps_end (float): minimum value of epsilon\n",
    "        eps_decay (float): multiplicative factor (per episode) for decreasing epsilon\n",
    "    \"\"\"\n",
    "    scores = []                        # list containing scores from each episode\n",
    "    scores_window = deque(maxlen=100)  # last 100 scores\n",
    "    eps = eps_start                    # initialize epsilon\n",
    "    for i_episode in range(1, n_episodes+1):\n",
    "        env_info = env.reset(train_mode=True)[brain_name]\n",
    "        state = env_info.vector_observations[0]\n",
    "        score = 0\n",
    "        for t in range(max_t):\n",
    "            action = agent.act(state, eps).astype(int)\n",
    "            env_info = env.step(action)[brain_name] \n",
    "            next_state = env_info.vector_observations[0]   # get the next state\n",
    "            reward = env_info.rewards[0]                   # get the reward\n",
    "            done = env_info.local_done[0] \n",
    "            agent.step(state, action, reward, next_state, done, i_episode)\n",
    "            state = next_state\n",
    "            score += reward\n",
    "            if done:\n",
    "                break \n",
    "        scores_window.append(score)       # save most recent score\n",
    "        scores.append(score)              # save most recent score\n",
    "        eps = max(eps_end, eps_decay*eps) # decrease epsilon\n",
    "        print('\\rEpisode {}\\tAverage Score: {:.2f}'.format(i_episode, np.mean(scores_window)), end=\"\")\n",
    "        if i_episode % 100 == 0:\n",
    "            print('\\rEpisode {}\\tAverage Score: {:.2f}'.format(i_episode, np.mean(scores_window)))\n",
    "        if np.mean(scores_window)>=200.0:\n",
    "            print('\\nEnvironment solved in {:d} episodes!\\tAverage Score: {:.2f}'.format(i_episode-100, np.mean(scores_window)))\n",
    "            torch.save(agent.qnetwork_local.state_dict(), 'checkpoint.pth')\n",
    "            break\n",
    "    return scores\n",
    "\n",
    "scores = dqn()"
   ]
  },
  {
   "cell_type": "code",
   "execution_count": 13,
   "metadata": {},
   "outputs": [
    {
     "data": {
      "text/plain": [
       "<matplotlib.legend.Legend at 0x2bc34436400>"
      ]
     },
     "execution_count": 13,
     "metadata": {},
     "output_type": "execute_result"
    },
    {
     "data": {
      "image/png": "[encoded data removed]",
      "text/plain": [
       "<Figure size 720x360 with 1 Axes>"
      ]
     },
     "metadata": {
      "needs_background": "light"
     },
     "output_type": "display_data"
    }
   ],
   "source": [
    "import matplotlib.pyplot as plt\n",
    "import pandas as pd\n",
    "\n",
    "fig, ax = plt.subplots(1, 1, figsize=[10, 5])\n",
    "\n",
    "score_average_window = pd.Series(scores).rolling(100).mean()\n",
    "ax.plot(scores, \"-\", c=\"black\", alpha=0.25)\n",
    "ax.plot(score_average_window, \"-\", c=\"red\", linewidth=4)\n",
    "\n",
    "ax.set_xlabel(\"Episode\")\n",
    "ax.set_ylabel(\"Score\")\n",
    "ax.grid(which=\"major\")\n",
    "ax.legend([\"Score of Each Episode\", \"Average in last 100 episodes\"])\n"
   ]
  },
  {
   "cell_type": "markdown",
   "metadata": {},
   "source": [
    "### Observe independent agent"
   ]
  },
  {
   "cell_type": "code",
   "execution_count": 16,
   "metadata": {},
   "outputs": [],
   "source": [
    "# load the weights from file\n",
    "# agent.qnetwork_local.load_state_dict(torch.load('checkpoint.pth'))\n",
    "\n",
    "for i in range(5):\n",
    "    env_info = env.reset(train_mode=False)[brain_name]\n",
    "    state = env_info.vector_observations[0]\n",
    "    \n",
    "    for j in range(200):\n",
    "        action = agent.act(state).astype(int)\n",
    "        env_info = env.step(action)[brain_name]\n",
    "        state = env_info.vector_observations[0]\n",
    "        done = env_info.local_done[0]\n",
    "        if done:\n",
    "            break"
   ]
  },
  {
   "cell_type": "code",
   "execution_count": 17,
   "metadata": {},
   "outputs": [],
   "source": [
    "env.close()"
   ]
  },
  {
   "cell_type": "code",
   "execution_count": null,
   "metadata": {},
   "outputs": [],
   "source": []
  }
 ],
 "metadata": {
  "kernelspec": {
   "display_name": "Python 3",
   "language": "python",
   "name": "python3"
  },
  "language_info": {
   "codemirror_mode": {
    "name": "ipython",
    "version": 3
   },
   "file_extension": ".py",
   "mimetype": "text/x-python",
   "name": "python",
   "nbconvert_exporter": "python",
   "pygments_lexer": "ipython3",
   "version": "3.6.8"
  }
 },
 "nbformat": 4,
 "nbformat_minor": 2
}
